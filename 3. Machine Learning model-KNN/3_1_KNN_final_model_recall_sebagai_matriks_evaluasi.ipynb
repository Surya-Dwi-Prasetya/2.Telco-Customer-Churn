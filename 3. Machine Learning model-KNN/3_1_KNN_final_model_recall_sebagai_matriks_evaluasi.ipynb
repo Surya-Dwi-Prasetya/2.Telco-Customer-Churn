{
  "nbformat": 4,
  "nbformat_minor": 0,
  "metadata": {
    "colab": {
      "provenance": []
    },
    "kernelspec": {
      "name": "python3",
      "display_name": "Python 3"
    },
    "language_info": {
      "name": "python"
    }
  },
  "cells": [
    {
      "cell_type": "code",
      "execution_count": 1,
      "metadata": {
        "colab": {
          "base_uri": "https://localhost:8080/"
        },
        "id": "_FI28tGqOXvg",
        "outputId": "73180aad-f757-4438-993b-f7c67d282e6f"
      },
      "outputs": [
        {
          "output_type": "stream",
          "name": "stdout",
          "text": [
            "Collecting scikit-optimize\n",
            "  Downloading scikit_optimize-0.10.2-py2.py3-none-any.whl (107 kB)\n",
            "\u001b[2K     \u001b[90m━━━━━━━━━━━━━━━━━━━━━━━━━━━━━━━━━━━━━━━━\u001b[0m \u001b[32m107.8/107.8 kB\u001b[0m \u001b[31m924.8 kB/s\u001b[0m eta \u001b[36m0:00:00\u001b[0m\n",
            "\u001b[?25hRequirement already satisfied: joblib>=0.11 in /usr/local/lib/python3.10/dist-packages (from scikit-optimize) (1.4.2)\n",
            "Collecting pyaml>=16.9 (from scikit-optimize)\n",
            "  Downloading pyaml-24.4.0-py3-none-any.whl (24 kB)\n",
            "Requirement already satisfied: numpy>=1.20.3 in /usr/local/lib/python3.10/dist-packages (from scikit-optimize) (1.25.2)\n",
            "Requirement already satisfied: scipy>=1.1.0 in /usr/local/lib/python3.10/dist-packages (from scikit-optimize) (1.11.4)\n",
            "Requirement already satisfied: scikit-learn>=1.0.0 in /usr/local/lib/python3.10/dist-packages (from scikit-optimize) (1.2.2)\n",
            "Requirement already satisfied: packaging>=21.3 in /usr/local/lib/python3.10/dist-packages (from scikit-optimize) (24.1)\n",
            "Requirement already satisfied: PyYAML in /usr/local/lib/python3.10/dist-packages (from pyaml>=16.9->scikit-optimize) (6.0.1)\n",
            "Requirement already satisfied: threadpoolctl>=2.0.0 in /usr/local/lib/python3.10/dist-packages (from scikit-learn>=1.0.0->scikit-optimize) (3.5.0)\n",
            "Installing collected packages: pyaml, scikit-optimize\n",
            "Successfully installed pyaml-24.4.0 scikit-optimize-0.10.2\n"
          ]
        }
      ],
      "source": [
        "!pip install scikit-optimize"
      ]
    },
    {
      "cell_type": "code",
      "source": [
        "import pandas as pd\n",
        "import numpy as np\n",
        "import matplotlib.pyplot as plt\n",
        "import seaborn as sns\n",
        "from google.colab import drive\n",
        "\n",
        "from sklearn.model_selection import train_test_split, GridSearchCV, RandomizedSearchCV, StratifiedKFold, cross_val_score, cross_val_predict\n",
        "from sklearn.neighbors import KNeighborsClassifier\n",
        "from sklearn.metrics import accuracy_score, confusion_matrix, classification_report, roc_curve, roc_auc_score, RocCurveDisplay, auc, recall_score, f1_score, precision_recall_curve\n",
        "\n",
        "from imblearn import FunctionSampler\n",
        "from imblearn.over_sampling import SMOTE, ADASYN, RandomOverSampler\n",
        "from imblearn.pipeline import make_pipeline\n",
        "\n",
        "from skopt import BayesSearchCV\n",
        "from skopt.space import Integer, Categorical"
      ],
      "metadata": {
        "id": "2bdqb6gwOh2t"
      },
      "execution_count": 9,
      "outputs": []
    },
    {
      "cell_type": "code",
      "source": [
        "drive.mount(\"/content/drive\")\n",
        "\n",
        "df = pd.read_csv(\"/content/drive/MyDrive/Data Science/1. Telco Customer Churn/Data/TelcoChurn_prep.csv\")\n",
        "\n",
        "pd.set_option(\"display.max_columns\",None)"
      ],
      "metadata": {
        "colab": {
          "base_uri": "https://localhost:8080/"
        },
        "id": "Bac7rb_COjXA",
        "outputId": "ecb8daf3-a24c-4dd4-fa4d-f28e481213c4"
      },
      "execution_count": 3,
      "outputs": [
        {
          "output_type": "stream",
          "name": "stdout",
          "text": [
            "Mounted at /content/drive\n"
          ]
        }
      ]
    },
    {
      "cell_type": "code",
      "source": [
        "df = df.drop([\"customerID\"],axis=1)\n",
        "\n",
        "df[\"Churn\"] = df[\"Churn\"].map({\"No\": 0, \"Yes\": 1})"
      ],
      "metadata": {
        "id": "eWqDi_paOna-"
      },
      "execution_count": 4,
      "outputs": []
    },
    {
      "cell_type": "code",
      "source": [
        "X = df.drop(\"Churn\", axis=1)\n",
        "y = df[\"Churn\"]\n",
        "\n",
        "X_train_sm, X_test_sm, y_train_sm, y_test_sm = train_test_split(X, y, test_size=0.3, random_state=42)\n",
        "\n",
        "smote = SMOTE(random_state=42)\n",
        "X_train_res, y_train_res = smote.fit_resample(X_train_sm, y_train_sm)\n",
        "\n",
        "knn = KNeighborsClassifier(n_neighbors=19, metric=\"manhattan\",weights=\"uniform\")\n",
        "knn.fit(X_train_res, y_train_res)\n",
        "\n",
        "y_pred_sm = knn.predict(X_test_sm)\n",
        "\n",
        "print(f\"recall score: {recall_score(y_test_sm,y_pred_sm)}\")\n",
        "print(\"\\n\")\n",
        "print(f\"f1 Score: {f1_score(y_test_sm, y_pred_sm)}\")\n",
        "print(\"\\n\")\n",
        "print(f\"Confusion matrix: \\n{confusion_matrix(y_test_sm, y_pred_sm)}\")\n",
        "print(\"\\n\")\n",
        "print(f\"classification_report: \\n{classification_report(y_test_sm, y_pred_sm)}\")"
      ],
      "metadata": {
        "colab": {
          "base_uri": "https://localhost:8080/"
        },
        "id": "SiMAmwrfOwL7",
        "outputId": "7b593979-69d9-41e8-b80d-479f92a14156"
      },
      "execution_count": 5,
      "outputs": [
        {
          "output_type": "stream",
          "name": "stdout",
          "text": [
            "recall score: 0.7967914438502673\n",
            "\n",
            "\n",
            "f1 Score: 0.593625498007968\n",
            "\n",
            "\n",
            "Confusion matrix: \n",
            "[[1051  498]\n",
            " [ 114  447]]\n",
            "\n",
            "\n",
            "classification_report: \n",
            "              precision    recall  f1-score   support\n",
            "\n",
            "           0       0.90      0.68      0.77      1549\n",
            "           1       0.47      0.80      0.59       561\n",
            "\n",
            "    accuracy                           0.71      2110\n",
            "   macro avg       0.69      0.74      0.68      2110\n",
            "weighted avg       0.79      0.71      0.73      2110\n",
            "\n"
          ]
        }
      ]
    },
    {
      "cell_type": "markdown",
      "source": [
        "Nampaknya model KNN hanya mampu sampai di sini saja"
      ],
      "metadata": {
        "id": "7E5rGEOmTLLy"
      }
    },
    {
      "cell_type": "code",
      "source": [],
      "metadata": {
        "id": "Y8j2dCCVTSLW"
      },
      "execution_count": null,
      "outputs": []
    }
  ]
}